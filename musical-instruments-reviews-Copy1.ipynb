{
 "cells": [
  {
   "cell_type": "code",
   "execution_count": 1,
   "metadata": {
    "_cell_guid": "b1076dfc-b9ad-4769-8c92-a6c4dae69d19",
    "_uuid": "8f2839f25d086af736a60e9eeb907d3b93b6e0e5",
    "execution": {
     "iopub.execute_input": "2021-09-23T13:02:33.961606Z",
     "iopub.status.busy": "2021-09-23T13:02:33.960919Z",
     "iopub.status.idle": "2021-09-23T13:02:33.978157Z",
     "shell.execute_reply": "2021-09-23T13:02:33.978708Z",
     "shell.execute_reply.started": "2021-09-23T11:33:10.316259Z"
    },
    "papermill": {
     "duration": 0.0769,
     "end_time": "2021-09-23T13:02:33.979004",
     "exception": false,
     "start_time": "2021-09-23T13:02:33.902104",
     "status": "completed"
    },
    "tags": []
   },
   "outputs": [],
   "source": [
    "# This Python 3 environment comes with many helpful analytics libraries installed\n",
    "# It is defined by the kaggle/python Docker image: https://github.com/kaggle/docker-python\n",
    "# For example, here's several helpful packages to load\n",
    "\n",
    "import numpy as np # linear algebra\n",
    "import pandas as pd # data processing, CSV file I/O (e.g. pd.read_csv)\n",
    "\n",
    "# Input data files are available in the read-only \"../input/\" directory\n",
    "# For example, running this (by clicking run or pressing Shift+Enter) will list all files under the input directory\n",
    "\n",
    "import os\n",
    "for dirname, _, filenames in os.walk('/kaggle/input'):\n",
    "    for filename in filenames:\n",
    "        print(os.path.join(dirname, filename))\n",
    "\n",
    "# You can write up to 20GB to the current directory (/kaggle/working/) that gets preserved as output when you create a version using \"Save & Run All\" \n",
    "# You can also write temporary files to /kaggle/temp/, but they won't be saved outside of the current session"
   ]
  },
  {
   "cell_type": "code",
   "execution_count": 2,
   "metadata": {
    "execution": {
     "iopub.execute_input": "2021-09-23T13:02:34.066541Z",
     "iopub.status.busy": "2021-09-23T13:02:34.065773Z",
     "iopub.status.idle": "2021-09-23T13:02:36.079631Z",
     "shell.execute_reply": "2021-09-23T13:02:36.079017Z",
     "shell.execute_reply.started": "2021-09-23T11:34:16.942563Z"
    },
    "papermill": {
     "duration": 2.061141,
     "end_time": "2021-09-23T13:02:36.079788",
     "exception": false,
     "start_time": "2021-09-23T13:02:34.018647",
     "status": "completed"
    },
    "tags": []
   },
   "outputs": [],
   "source": [
    "# Import the necessary library\n",
    "import pandas as pd\n",
    "import numpy as np\n",
    "import matplotlib.pyplot as plt\n",
    "import seaborn as sns\n",
    "import os\n",
    "import re\n",
    "import string\n",
    "import nltk\n",
    "from nltk.corpus import stopwords\n",
    "from nltk.stem import PorterStemmer\n",
    "from nltk.stem import WordNetLemmatizer\n",
    "from sklearn.feature_extraction.text import TfidfVectorizer\n",
    "from collections import Counter\n",
    "from imblearn.over_sampling import SMOTE\n",
    "from sklearn.model_selection import train_test_split\n",
    "from sklearn import metrics\n",
    "from xgboost import XGBClassifier\n",
    "from sklearn.ensemble import RandomForestClassifier\n",
    "from sklearn.svm import LinearSVC\n",
    "from sklearn.neighbors import KNeighborsClassifier\n",
    "from sklearn.naive_bayes import BernoulliNB\n",
    "from sklearn.metrics import classification_report, confusion_matrix, accuracy_score\n",
    "from sklearn.model_selection import cross_val_score\n",
    "from sklearn.model_selection import KFold\n",
    "import pickle\n",
    "from sklearn.model_selection import validation_curve\n",
    "from sklearn.model_selection import learning_curve\n",
    "from sklearn.model_selection import ShuffleSplit\n",
    "from itertools import chain"
   ]
  },
  {
   "cell_type": "code",
   "execution_count": 3,
   "metadata": {
    "execution": {
     "iopub.execute_input": "2021-09-23T13:02:36.159890Z",
     "iopub.status.busy": "2021-09-23T13:02:36.159172Z",
     "iopub.status.idle": "2021-09-23T13:02:36.346136Z",
     "shell.execute_reply": "2021-09-23T13:02:36.346672Z",
     "shell.execute_reply.started": "2021-09-23T11:35:38.595606Z"
    },
    "papermill": {
     "duration": 0.229338,
     "end_time": "2021-09-23T13:02:36.346850",
     "exception": false,
     "start_time": "2021-09-23T13:02:36.117512",
     "status": "completed"
    },
    "tags": []
   },
   "outputs": [
    {
     "data": {
      "text/html": [
       "<div>\n",
       "<style scoped>\n",
       "    .dataframe tbody tr th:only-of-type {\n",
       "        vertical-align: middle;\n",
       "    }\n",
       "\n",
       "    .dataframe tbody tr th {\n",
       "        vertical-align: top;\n",
       "    }\n",
       "\n",
       "    .dataframe thead th {\n",
       "        text-align: right;\n",
       "    }\n",
       "</style>\n",
       "<table border=\"1\" class=\"dataframe\">\n",
       "  <thead>\n",
       "    <tr style=\"text-align: right;\">\n",
       "      <th></th>\n",
       "      <th>reviewerID</th>\n",
       "      <th>asin</th>\n",
       "      <th>reviewerName</th>\n",
       "      <th>helpful</th>\n",
       "      <th>reviewText</th>\n",
       "      <th>overall</th>\n",
       "      <th>summary</th>\n",
       "      <th>unixReviewTime</th>\n",
       "      <th>reviewTime</th>\n",
       "    </tr>\n",
       "  </thead>\n",
       "  <tbody>\n",
       "    <tr>\n",
       "      <th>0</th>\n",
       "      <td>A2IBPI20UZIR0U</td>\n",
       "      <td>1384719342</td>\n",
       "      <td>cassandra tu \"Yeah, well, that's just like, u...</td>\n",
       "      <td>[0, 0]</td>\n",
       "      <td>Not much to write about here, but it does exac...</td>\n",
       "      <td>5.0</td>\n",
       "      <td>good</td>\n",
       "      <td>1393545600</td>\n",
       "      <td>02 28, 2014</td>\n",
       "    </tr>\n",
       "    <tr>\n",
       "      <th>1</th>\n",
       "      <td>A14VAT5EAX3D9S</td>\n",
       "      <td>1384719342</td>\n",
       "      <td>Jake</td>\n",
       "      <td>[13, 14]</td>\n",
       "      <td>The product does exactly as it should and is q...</td>\n",
       "      <td>5.0</td>\n",
       "      <td>Jake</td>\n",
       "      <td>1363392000</td>\n",
       "      <td>03 16, 2013</td>\n",
       "    </tr>\n",
       "    <tr>\n",
       "      <th>2</th>\n",
       "      <td>A195EZSQDW3E21</td>\n",
       "      <td>1384719342</td>\n",
       "      <td>Rick Bennette \"Rick Bennette\"</td>\n",
       "      <td>[1, 1]</td>\n",
       "      <td>The primary job of this device is to block the...</td>\n",
       "      <td>5.0</td>\n",
       "      <td>It Does The Job Well</td>\n",
       "      <td>1377648000</td>\n",
       "      <td>08 28, 2013</td>\n",
       "    </tr>\n",
       "    <tr>\n",
       "      <th>3</th>\n",
       "      <td>A2C00NNG1ZQQG2</td>\n",
       "      <td>1384719342</td>\n",
       "      <td>RustyBill \"Sunday Rocker\"</td>\n",
       "      <td>[0, 0]</td>\n",
       "      <td>Nice windscreen protects my MXL mic and preven...</td>\n",
       "      <td>5.0</td>\n",
       "      <td>GOOD WINDSCREEN FOR THE MONEY</td>\n",
       "      <td>1392336000</td>\n",
       "      <td>02 14, 2014</td>\n",
       "    </tr>\n",
       "    <tr>\n",
       "      <th>4</th>\n",
       "      <td>A94QU4C90B1AX</td>\n",
       "      <td>1384719342</td>\n",
       "      <td>SEAN MASLANKA</td>\n",
       "      <td>[0, 0]</td>\n",
       "      <td>This pop filter is great. It looks and perform...</td>\n",
       "      <td>5.0</td>\n",
       "      <td>No more pops when I record my vocals.</td>\n",
       "      <td>1392940800</td>\n",
       "      <td>02 21, 2014</td>\n",
       "    </tr>\n",
       "  </tbody>\n",
       "</table>\n",
       "</div>"
      ],
      "text/plain": [
       "       reviewerID        asin  \\\n",
       "0  A2IBPI20UZIR0U  1384719342   \n",
       "1  A14VAT5EAX3D9S  1384719342   \n",
       "2  A195EZSQDW3E21  1384719342   \n",
       "3  A2C00NNG1ZQQG2  1384719342   \n",
       "4   A94QU4C90B1AX  1384719342   \n",
       "\n",
       "                                       reviewerName   helpful  \\\n",
       "0  cassandra tu \"Yeah, well, that's just like, u...    [0, 0]   \n",
       "1                                              Jake  [13, 14]   \n",
       "2                     Rick Bennette \"Rick Bennette\"    [1, 1]   \n",
       "3                         RustyBill \"Sunday Rocker\"    [0, 0]   \n",
       "4                                     SEAN MASLANKA    [0, 0]   \n",
       "\n",
       "                                          reviewText  overall  \\\n",
       "0  Not much to write about here, but it does exac...      5.0   \n",
       "1  The product does exactly as it should and is q...      5.0   \n",
       "2  The primary job of this device is to block the...      5.0   \n",
       "3  Nice windscreen protects my MXL mic and preven...      5.0   \n",
       "4  This pop filter is great. It looks and perform...      5.0   \n",
       "\n",
       "                                 summary  unixReviewTime   reviewTime  \n",
       "0                                   good      1393545600  02 28, 2014  \n",
       "1                                   Jake      1363392000  03 16, 2013  \n",
       "2                   It Does The Job Well      1377648000  08 28, 2013  \n",
       "3          GOOD WINDSCREEN FOR THE MONEY      1392336000  02 14, 2014  \n",
       "4  No more pops when I record my vocals.      1392940800  02 21, 2014  "
      ]
     },
     "execution_count": 3,
     "metadata": {},
     "output_type": "execute_result"
    }
   ],
   "source": [
    "df_review = pd.read_csv('C:/Users/Lenovo/NLP/Musical_instruments_reviews.csv')\n",
    "df_review.head()"
   ]
  },
  {
   "cell_type": "markdown",
   "metadata": {
    "papermill": {
     "duration": 0.037623,
     "end_time": "2021-09-23T13:02:36.422633",
     "exception": false,
     "start_time": "2021-09-23T13:02:36.385010",
     "status": "completed"
    },
    "tags": []
   },
   "source": [
    "* You have to categorise opinions expressed in feedback forums"
   ]
  },
  {
   "cell_type": "code",
   "execution_count": 4,
   "metadata": {
    "execution": {
     "iopub.execute_input": "2021-09-23T13:02:36.514237Z",
     "iopub.status.busy": "2021-09-23T13:02:36.513583Z",
     "iopub.status.idle": "2021-09-23T13:02:36.516171Z",
     "shell.execute_reply": "2021-09-23T13:02:36.516658Z",
     "shell.execute_reply.started": "2021-09-23T11:36:21.172141Z"
    },
    "papermill": {
     "duration": 0.056316,
     "end_time": "2021-09-23T13:02:36.516822",
     "exception": false,
     "start_time": "2021-09-23T13:02:36.460506",
     "status": "completed"
    },
    "tags": []
   },
   "outputs": [
    {
     "data": {
      "text/html": [
       "<div>\n",
       "<style scoped>\n",
       "    .dataframe tbody tr th:only-of-type {\n",
       "        vertical-align: middle;\n",
       "    }\n",
       "\n",
       "    .dataframe tbody tr th {\n",
       "        vertical-align: top;\n",
       "    }\n",
       "\n",
       "    .dataframe thead th {\n",
       "        text-align: right;\n",
       "    }\n",
       "</style>\n",
       "<table border=\"1\" class=\"dataframe\">\n",
       "  <thead>\n",
       "    <tr style=\"text-align: right;\">\n",
       "      <th></th>\n",
       "      <th>reviewerID</th>\n",
       "      <th>asin</th>\n",
       "      <th>reviewerName</th>\n",
       "      <th>helpful</th>\n",
       "      <th>reviewText</th>\n",
       "      <th>overall</th>\n",
       "      <th>summary</th>\n",
       "      <th>unixReviewTime</th>\n",
       "      <th>reviewTime</th>\n",
       "    </tr>\n",
       "  </thead>\n",
       "  <tbody>\n",
       "    <tr>\n",
       "      <th>0</th>\n",
       "      <td>A2IBPI20UZIR0U</td>\n",
       "      <td>1384719342</td>\n",
       "      <td>cassandra tu \"Yeah, well, that's just like, u...</td>\n",
       "      <td>[0, 0]</td>\n",
       "      <td>Not much to write about here, but it does exac...</td>\n",
       "      <td>5.0</td>\n",
       "      <td>good</td>\n",
       "      <td>1393545600</td>\n",
       "      <td>02 28, 2014</td>\n",
       "    </tr>\n",
       "    <tr>\n",
       "      <th>1</th>\n",
       "      <td>A14VAT5EAX3D9S</td>\n",
       "      <td>1384719342</td>\n",
       "      <td>Jake</td>\n",
       "      <td>[13, 14]</td>\n",
       "      <td>The product does exactly as it should and is q...</td>\n",
       "      <td>5.0</td>\n",
       "      <td>Jake</td>\n",
       "      <td>1363392000</td>\n",
       "      <td>03 16, 2013</td>\n",
       "    </tr>\n",
       "    <tr>\n",
       "      <th>2</th>\n",
       "      <td>A195EZSQDW3E21</td>\n",
       "      <td>1384719342</td>\n",
       "      <td>Rick Bennette \"Rick Bennette\"</td>\n",
       "      <td>[1, 1]</td>\n",
       "      <td>The primary job of this device is to block the...</td>\n",
       "      <td>5.0</td>\n",
       "      <td>It Does The Job Well</td>\n",
       "      <td>1377648000</td>\n",
       "      <td>08 28, 2013</td>\n",
       "    </tr>\n",
       "    <tr>\n",
       "      <th>3</th>\n",
       "      <td>A2C00NNG1ZQQG2</td>\n",
       "      <td>1384719342</td>\n",
       "      <td>RustyBill \"Sunday Rocker\"</td>\n",
       "      <td>[0, 0]</td>\n",
       "      <td>Nice windscreen protects my MXL mic and preven...</td>\n",
       "      <td>5.0</td>\n",
       "      <td>GOOD WINDSCREEN FOR THE MONEY</td>\n",
       "      <td>1392336000</td>\n",
       "      <td>02 14, 2014</td>\n",
       "    </tr>\n",
       "    <tr>\n",
       "      <th>4</th>\n",
       "      <td>A94QU4C90B1AX</td>\n",
       "      <td>1384719342</td>\n",
       "      <td>SEAN MASLANKA</td>\n",
       "      <td>[0, 0]</td>\n",
       "      <td>This pop filter is great. It looks and perform...</td>\n",
       "      <td>5.0</td>\n",
       "      <td>No more pops when I record my vocals.</td>\n",
       "      <td>1392940800</td>\n",
       "      <td>02 21, 2014</td>\n",
       "    </tr>\n",
       "  </tbody>\n",
       "</table>\n",
       "</div>"
      ],
      "text/plain": [
       "       reviewerID        asin  \\\n",
       "0  A2IBPI20UZIR0U  1384719342   \n",
       "1  A14VAT5EAX3D9S  1384719342   \n",
       "2  A195EZSQDW3E21  1384719342   \n",
       "3  A2C00NNG1ZQQG2  1384719342   \n",
       "4   A94QU4C90B1AX  1384719342   \n",
       "\n",
       "                                       reviewerName   helpful  \\\n",
       "0  cassandra tu \"Yeah, well, that's just like, u...    [0, 0]   \n",
       "1                                              Jake  [13, 14]   \n",
       "2                     Rick Bennette \"Rick Bennette\"    [1, 1]   \n",
       "3                         RustyBill \"Sunday Rocker\"    [0, 0]   \n",
       "4                                     SEAN MASLANKA    [0, 0]   \n",
       "\n",
       "                                          reviewText  overall  \\\n",
       "0  Not much to write about here, but it does exac...      5.0   \n",
       "1  The product does exactly as it should and is q...      5.0   \n",
       "2  The primary job of this device is to block the...      5.0   \n",
       "3  Nice windscreen protects my MXL mic and preven...      5.0   \n",
       "4  This pop filter is great. It looks and perform...      5.0   \n",
       "\n",
       "                                 summary  unixReviewTime   reviewTime  \n",
       "0                                   good      1393545600  02 28, 2014  \n",
       "1                                   Jake      1363392000  03 16, 2013  \n",
       "2                   It Does The Job Well      1377648000  08 28, 2013  \n",
       "3          GOOD WINDSCREEN FOR THE MONEY      1392336000  02 14, 2014  \n",
       "4  No more pops when I record my vocals.      1392940800  02 21, 2014  "
      ]
     },
     "execution_count": 4,
     "metadata": {},
     "output_type": "execute_result"
    }
   ],
   "source": [
    "# review the head of dataset\n",
    "df_review.head()"
   ]
  },
  {
   "cell_type": "code",
   "execution_count": 5,
   "metadata": {
    "execution": {
     "iopub.execute_input": "2021-09-23T13:02:36.602911Z",
     "iopub.status.busy": "2021-09-23T13:02:36.597595Z",
     "iopub.status.idle": "2021-09-23T13:02:36.606413Z",
     "shell.execute_reply": "2021-09-23T13:02:36.607105Z",
     "shell.execute_reply.started": "2021-09-23T11:36:33.064190Z"
    },
    "papermill": {
     "duration": 0.051597,
     "end_time": "2021-09-23T13:02:36.607275",
     "exception": false,
     "start_time": "2021-09-23T13:02:36.555678",
     "status": "completed"
    },
    "tags": []
   },
   "outputs": [
    {
     "name": "stdout",
     "output_type": "stream",
     "text": [
      "Maximum rating scale of overall rating 5.0\n",
      "Minimum rating scale of overall rating 1.0\n"
     ]
    }
   ],
   "source": [
    "# checking the scale of overall rating\n",
    "print('Maximum rating scale of overall rating {}'.format(df_review.overall.max()))\n",
    "print('Minimum rating scale of overall rating {}'.format(df_review.overall.min()))"
   ]
  },
  {
   "cell_type": "markdown",
   "metadata": {
    "papermill": {
     "duration": 0.038638,
     "end_time": "2021-09-23T13:02:36.684882",
     "exception": false,
     "start_time": "2021-09-23T13:02:36.646244",
     "status": "completed"
    },
    "tags": []
   },
   "source": [
    "* **NOTE:We should the categorize the opnion of the feedback based on the overall rating because overall rating indicate that how much customers are satisfied from that product. <br>**\n",
    "\n",
    "* Rating and there General Meaning are follows <br>\n",
    "<pre>\n",
    "    Rating            General Meaning\n",
    "    1.0               I hate it.\n",
    "    2.0               I don't like it.\n",
    "    3.0               It's okey.\n",
    "    4.0               I like it.\n",
    "    5.0               I love it.\n",
    "</pre>\n",
    "\n"
   ]
  },
  {
   "cell_type": "code",
   "execution_count": 6,
   "metadata": {
    "execution": {
     "iopub.execute_input": "2021-09-23T13:02:36.765609Z",
     "iopub.status.busy": "2021-09-23T13:02:36.764976Z",
     "iopub.status.idle": "2021-09-23T13:02:36.771291Z",
     "shell.execute_reply": "2021-09-23T13:02:36.770749Z",
     "shell.execute_reply.started": "2021-09-23T11:37:19.180631Z"
    },
    "papermill": {
     "duration": 0.047789,
     "end_time": "2021-09-23T13:02:36.771444",
     "exception": false,
     "start_time": "2021-09-23T13:02:36.723655",
     "status": "completed"
    },
    "tags": []
   },
   "outputs": [],
   "source": [
    "# defing the function for adding the category for the feedback\n",
    "def add_category(df):\n",
    "\n",
    "  if df['overall']==1.0:\n",
    "    return \"I hate it\"\n",
    "  elif df['overall']==2.0:\n",
    "    return \"I don't like it\"\n",
    "  elif df['overall'] == 3.0:\n",
    "    return \"It's okey\"\n",
    "  elif df['overall'] == 4.0:\n",
    "    return \"I like it\"\n",
    "  elif df['overall'] == 5.0:\n",
    "    return \"I love it\"\n",
    "  else:\n",
    "    return -1\n"
   ]
  },
  {
   "cell_type": "code",
   "execution_count": 7,
   "metadata": {
    "execution": {
     "iopub.execute_input": "2021-09-23T13:02:36.858087Z",
     "iopub.status.busy": "2021-09-23T13:02:36.857313Z",
     "iopub.status.idle": "2021-09-23T13:02:37.460550Z",
     "shell.execute_reply": "2021-09-23T13:02:37.460995Z",
     "shell.execute_reply.started": "2021-09-23T11:37:30.692359Z"
    },
    "papermill": {
     "duration": 0.650342,
     "end_time": "2021-09-23T13:02:37.461165",
     "exception": false,
     "start_time": "2021-09-23T13:02:36.810823",
     "status": "completed"
    },
    "tags": []
   },
   "outputs": [
    {
     "data": {
      "image/png": "[encoded data removed]",
      "text/plain": [
       "<Figure size 432x432 with 1 Axes>"
      ]
     },
     "metadata": {
      "needs_background": "light"
     },
     "output_type": "display_data"
    }
   ],
   "source": [
    "# adding the category in dataframe\n",
    "df_review['category'] = df_review.apply(add_category, axis=1)\n",
    "plt.figure(figsize=(6,6))\n",
    "plt.title('Percentage of category')\n",
    "ax = sns.countplot(y = 'category', data = df_review)\n",
    "total = len(df_review)\n",
    "for p in ax.patches:\n",
    "        percentage = '{:.1f}%'.format(100 * p.get_width()/total)\n",
    "        x = p.get_x() + p.get_width() + 0.02\n",
    "        y = p.get_y() + p.get_height()/2\n",
    "        ax.annotate(percentage, (x, y))\n"
   ]
  },
  {
   "cell_type": "markdown",
   "metadata": {
    "papermill": {
     "duration": 0.039371,
     "end_time": "2021-09-23T13:02:37.540331",
     "exception": false,
     "start_time": "2021-09-23T13:02:37.500960",
     "status": "completed"
    },
    "tags": []
   },
   "source": [
    "+ **We can see the above graph**<br>\n",
    "<pre>\n",
    "  67.6% customers love the product.\n",
    "  7.5% customers it's okey.\n",
    "  20.3% customers like the product.\n",
    "  2.4% customres don't like the product.\n",
    "  2.1% customers hate the product.\n",
    "</pre>"
   ]
  },
  {
   "cell_type": "markdown",
   "metadata": {
    "papermill": {
     "duration": 0.039074,
     "end_time": "2021-09-23T13:02:37.618966",
     "exception": false,
     "start_time": "2021-09-23T13:02:37.579892",
     "status": "completed"
    },
    "tags": []
   },
   "source": [
    "+ You have to classify individual comments/reviews and you have to determine overall rating based on individual comments/reviews."
   ]
  },
  {
   "cell_type": "code",
   "execution_count": 8,
   "metadata": {
    "execution": {
     "iopub.execute_input": "2021-09-23T13:02:37.714963Z",
     "iopub.status.busy": "2021-09-23T13:02:37.714265Z",
     "iopub.status.idle": "2021-09-23T13:02:37.717158Z",
     "shell.execute_reply": "2021-09-23T13:02:37.717639Z",
     "shell.execute_reply.started": "2021-09-23T11:38:25.124475Z"
    },
    "papermill": {
     "duration": 0.059115,
     "end_time": "2021-09-23T13:02:37.717811",
     "exception": false,
     "start_time": "2021-09-23T13:02:37.658696",
     "status": "completed"
    },
    "tags": []
   },
   "outputs": [
    {
     "data": {
      "text/html": [
       "<div>\n",
       "<style scoped>\n",
       "    .dataframe tbody tr th:only-of-type {\n",
       "        vertical-align: middle;\n",
       "    }\n",
       "\n",
       "    .dataframe tbody tr th {\n",
       "        vertical-align: top;\n",
       "    }\n",
       "\n",
       "    .dataframe thead th {\n",
       "        text-align: right;\n",
       "    }\n",
       "</style>\n",
       "<table border=\"1\" class=\"dataframe\">\n",
       "  <thead>\n",
       "    <tr style=\"text-align: right;\">\n",
       "      <th></th>\n",
       "      <th>reviewerID</th>\n",
       "      <th>asin</th>\n",
       "      <th>reviewerName</th>\n",
       "      <th>helpful</th>\n",
       "      <th>reviewText</th>\n",
       "      <th>overall</th>\n",
       "      <th>summary</th>\n",
       "      <th>unixReviewTime</th>\n",
       "      <th>reviewTime</th>\n",
       "      <th>category</th>\n",
       "    </tr>\n",
       "  </thead>\n",
       "  <tbody>\n",
       "    <tr>\n",
       "      <th>0</th>\n",
       "      <td>A2IBPI20UZIR0U</td>\n",
       "      <td>1384719342</td>\n",
       "      <td>cassandra tu \"Yeah, well, that's just like, u...</td>\n",
       "      <td>[0, 0]</td>\n",
       "      <td>Not much to write about here, but it does exac...</td>\n",
       "      <td>5.0</td>\n",
       "      <td>good</td>\n",
       "      <td>1393545600</td>\n",
       "      <td>02 28, 2014</td>\n",
       "      <td>I love it</td>\n",
       "    </tr>\n",
       "    <tr>\n",
       "      <th>1</th>\n",
       "      <td>A14VAT5EAX3D9S</td>\n",
       "      <td>1384719342</td>\n",
       "      <td>Jake</td>\n",
       "      <td>[13, 14]</td>\n",
       "      <td>The product does exactly as it should and is q...</td>\n",
       "      <td>5.0</td>\n",
       "      <td>Jake</td>\n",
       "      <td>1363392000</td>\n",
       "      <td>03 16, 2013</td>\n",
       "      <td>I love it</td>\n",
       "    </tr>\n",
       "    <tr>\n",
       "      <th>2</th>\n",
       "      <td>A195EZSQDW3E21</td>\n",
       "      <td>1384719342</td>\n",
       "      <td>Rick Bennette \"Rick Bennette\"</td>\n",
       "      <td>[1, 1]</td>\n",
       "      <td>The primary job of this device is to block the...</td>\n",
       "      <td>5.0</td>\n",
       "      <td>It Does The Job Well</td>\n",
       "      <td>1377648000</td>\n",
       "      <td>08 28, 2013</td>\n",
       "      <td>I love it</td>\n",
       "    </tr>\n",
       "    <tr>\n",
       "      <th>3</th>\n",
       "      <td>A2C00NNG1ZQQG2</td>\n",
       "      <td>1384719342</td>\n",
       "      <td>RustyBill \"Sunday Rocker\"</td>\n",
       "      <td>[0, 0]</td>\n",
       "      <td>Nice windscreen protects my MXL mic and preven...</td>\n",
       "      <td>5.0</td>\n",
       "      <td>GOOD WINDSCREEN FOR THE MONEY</td>\n",
       "      <td>1392336000</td>\n",
       "      <td>02 14, 2014</td>\n",
       "      <td>I love it</td>\n",
       "    </tr>\n",
       "    <tr>\n",
       "      <th>4</th>\n",
       "      <td>A94QU4C90B1AX</td>\n",
       "      <td>1384719342</td>\n",
       "      <td>SEAN MASLANKA</td>\n",
       "      <td>[0, 0]</td>\n",
       "      <td>This pop filter is great. It looks and perform...</td>\n",
       "      <td>5.0</td>\n",
       "      <td>No more pops when I record my vocals.</td>\n",
       "      <td>1392940800</td>\n",
       "      <td>02 21, 2014</td>\n",
       "      <td>I love it</td>\n",
       "    </tr>\n",
       "  </tbody>\n",
       "</table>\n",
       "</div>"
      ],
      "text/plain": [
       "       reviewerID        asin  \\\n",
       "0  A2IBPI20UZIR0U  1384719342   \n",
       "1  A14VAT5EAX3D9S  1384719342   \n",
       "2  A195EZSQDW3E21  1384719342   \n",
       "3  A2C00NNG1ZQQG2  1384719342   \n",
       "4   A94QU4C90B1AX  1384719342   \n",
       "\n",
       "                                       reviewerName   helpful  \\\n",
       "0  cassandra tu \"Yeah, well, that's just like, u...    [0, 0]   \n",
       "1                                              Jake  [13, 14]   \n",
       "2                     Rick Bennette \"Rick Bennette\"    [1, 1]   \n",
       "3                         RustyBill \"Sunday Rocker\"    [0, 0]   \n",
       "4                                     SEAN MASLANKA    [0, 0]   \n",
       "\n",
       "                                          reviewText  overall  \\\n",
       "0  Not much to write about here, but it does exac...      5.0   \n",
       "1  The product does exactly as it should and is q...      5.0   \n",
       "2  The primary job of this device is to block the...      5.0   \n",
       "3  Nice windscreen protects my MXL mic and preven...      5.0   \n",
       "4  This pop filter is great. It looks and perform...      5.0   \n",
       "\n",
       "                                 summary  unixReviewTime   reviewTime  \\\n",
       "0                                   good      1393545600  02 28, 2014   \n",
       "1                                   Jake      1363392000  03 16, 2013   \n",
       "2                   It Does The Job Well      1377648000  08 28, 2013   \n",
       "3          GOOD WINDSCREEN FOR THE MONEY      1392336000  02 14, 2014   \n",
       "4  No more pops when I record my vocals.      1392940800  02 21, 2014   \n",
       "\n",
       "    category  \n",
       "0  I love it  \n",
       "1  I love it  \n",
       "2  I love it  \n",
       "3  I love it  \n",
       "4  I love it  "
      ]
     },
     "execution_count": 8,
     "metadata": {},
     "output_type": "execute_result"
    }
   ],
   "source": [
    "df_review.head()"
   ]
  },
  {
   "cell_type": "code",
   "execution_count": 9,
   "metadata": {
    "execution": {
     "iopub.execute_input": "2021-09-23T13:02:37.816914Z",
     "iopub.status.busy": "2021-09-23T13:02:37.814053Z",
     "iopub.status.idle": "2021-09-23T13:02:37.820288Z",
     "shell.execute_reply": "2021-09-23T13:02:37.819763Z",
     "shell.execute_reply.started": "2021-09-23T11:38:38.139936Z"
    },
    "papermill": {
     "duration": 0.061879,
     "end_time": "2021-09-23T13:02:37.820421",
     "exception": false,
     "start_time": "2021-09-23T13:02:37.758542",
     "status": "completed"
    },
    "tags": []
   },
   "outputs": [
    {
     "data": {
      "text/plain": [
       "reviewerID         0\n",
       "asin               0\n",
       "reviewerName      27\n",
       "helpful            0\n",
       "reviewText         7\n",
       "overall            0\n",
       "summary            0\n",
       "unixReviewTime     0\n",
       "reviewTime         0\n",
       "category           0\n",
       "dtype: int64"
      ]
     },
     "execution_count": 9,
     "metadata": {},
     "output_type": "execute_result"
    }
   ],
   "source": [
    "# checking the total number of nan values of each features\n",
    "df_review.isnull().sum()"
   ]
  },
  {
   "cell_type": "markdown",
   "metadata": {
    "papermill": {
     "duration": 0.040138,
     "end_time": "2021-09-23T13:02:37.901218",
     "exception": false,
     "start_time": "2021-09-23T13:02:37.861080",
     "status": "completed"
    },
    "tags": []
   },
   "source": [
    "+ We can see the above only to two features has nan values reviewerName and reviewText respectively.\n",
    "+ we can reviewText row whose values is nan because this is an important features. Curruently imput with missing string."
   ]
  },
  {
   "cell_type": "code",
   "execution_count": 10,
   "metadata": {
    "execution": {
     "iopub.execute_input": "2021-09-23T13:02:38.006522Z",
     "iopub.status.busy": "2021-09-23T13:02:38.005469Z",
     "iopub.status.idle": "2021-09-23T13:02:38.011218Z",
     "shell.execute_reply": "2021-09-23T13:02:38.010688Z",
     "shell.execute_reply.started": "2021-09-23T11:39:06.495849Z"
    },
    "papermill": {
     "duration": 0.069534,
     "end_time": "2021-09-23T13:02:38.011365",
     "exception": false,
     "start_time": "2021-09-23T13:02:37.941831",
     "status": "completed"
    },
    "tags": []
   },
   "outputs": [],
   "source": [
    "# imputing the reviewText features with missing \n",
    "df_review['reviewText'] = df_review.reviewText.fillna('missing')\n",
    "\n",
    "# concating the reviewText and summary features\n",
    "df_review['review']= df_review['reviewText'] +\" \"+ df_review['summary']\n",
    "\n",
    "# deleting the summary column\n",
    "df_review.drop(['summary','reviewText'], inplace=True, axis=1)\n"
   ]
  },
  {
   "cell_type": "code",
   "execution_count": 11,
   "metadata": {
    "execution": {
     "iopub.execute_input": "2021-09-23T13:02:38.107573Z",
     "iopub.status.busy": "2021-09-23T13:02:38.106783Z",
     "iopub.status.idle": "2021-09-23T13:02:38.110708Z",
     "shell.execute_reply": "2021-09-23T13:02:38.110108Z",
     "shell.execute_reply.started": "2021-09-23T11:39:17.651749Z"
    },
    "papermill": {
     "duration": 0.058321,
     "end_time": "2021-09-23T13:02:38.110841",
     "exception": false,
     "start_time": "2021-09-23T13:02:38.052520",
     "status": "completed"
    },
    "tags": []
   },
   "outputs": [
    {
     "data": {
      "text/html": [
       "<div>\n",
       "<style scoped>\n",
       "    .dataframe tbody tr th:only-of-type {\n",
       "        vertical-align: middle;\n",
       "    }\n",
       "\n",
       "    .dataframe tbody tr th {\n",
       "        vertical-align: top;\n",
       "    }\n",
       "\n",
       "    .dataframe thead th {\n",
       "        text-align: right;\n",
       "    }\n",
       "</style>\n",
       "<table border=\"1\" class=\"dataframe\">\n",
       "  <thead>\n",
       "    <tr style=\"text-align: right;\">\n",
       "      <th></th>\n",
       "      <th>reviewerID</th>\n",
       "      <th>asin</th>\n",
       "      <th>reviewerName</th>\n",
       "      <th>helpful</th>\n",
       "      <th>overall</th>\n",
       "      <th>unixReviewTime</th>\n",
       "      <th>reviewTime</th>\n",
       "      <th>category</th>\n",
       "      <th>review</th>\n",
       "    </tr>\n",
       "  </thead>\n",
       "  <tbody>\n",
       "    <tr>\n",
       "      <th>0</th>\n",
       "      <td>A2IBPI20UZIR0U</td>\n",
       "      <td>1384719342</td>\n",
       "      <td>cassandra tu \"Yeah, well, that's just like, u...</td>\n",
       "      <td>[0, 0]</td>\n",
       "      <td>5.0</td>\n",
       "      <td>1393545600</td>\n",
       "      <td>02 28, 2014</td>\n",
       "      <td>I love it</td>\n",
       "      <td>Not much to write about here, but it does exac...</td>\n",
       "    </tr>\n",
       "    <tr>\n",
       "      <th>1</th>\n",
       "      <td>A14VAT5EAX3D9S</td>\n",
       "      <td>1384719342</td>\n",
       "      <td>Jake</td>\n",
       "      <td>[13, 14]</td>\n",
       "      <td>5.0</td>\n",
       "      <td>1363392000</td>\n",
       "      <td>03 16, 2013</td>\n",
       "      <td>I love it</td>\n",
       "      <td>The product does exactly as it should and is q...</td>\n",
       "    </tr>\n",
       "    <tr>\n",
       "      <th>2</th>\n",
       "      <td>A195EZSQDW3E21</td>\n",
       "      <td>1384719342</td>\n",
       "      <td>Rick Bennette \"Rick Bennette\"</td>\n",
       "      <td>[1, 1]</td>\n",
       "      <td>5.0</td>\n",
       "      <td>1377648000</td>\n",
       "      <td>08 28, 2013</td>\n",
       "      <td>I love it</td>\n",
       "      <td>The primary job of this device is to block the...</td>\n",
       "    </tr>\n",
       "    <tr>\n",
       "      <th>3</th>\n",
       "      <td>A2C00NNG1ZQQG2</td>\n",
       "      <td>1384719342</td>\n",
       "      <td>RustyBill \"Sunday Rocker\"</td>\n",
       "      <td>[0, 0]</td>\n",
       "      <td>5.0</td>\n",
       "      <td>1392336000</td>\n",
       "      <td>02 14, 2014</td>\n",
       "      <td>I love it</td>\n",
       "      <td>Nice windscreen protects my MXL mic and preven...</td>\n",
       "    </tr>\n",
       "    <tr>\n",
       "      <th>4</th>\n",
       "      <td>A94QU4C90B1AX</td>\n",
       "      <td>1384719342</td>\n",
       "      <td>SEAN MASLANKA</td>\n",
       "      <td>[0, 0]</td>\n",
       "      <td>5.0</td>\n",
       "      <td>1392940800</td>\n",
       "      <td>02 21, 2014</td>\n",
       "      <td>I love it</td>\n",
       "      <td>This pop filter is great. It looks and perform...</td>\n",
       "    </tr>\n",
       "  </tbody>\n",
       "</table>\n",
       "</div>"
      ],
      "text/plain": [
       "       reviewerID        asin  \\\n",
       "0  A2IBPI20UZIR0U  1384719342   \n",
       "1  A14VAT5EAX3D9S  1384719342   \n",
       "2  A195EZSQDW3E21  1384719342   \n",
       "3  A2C00NNG1ZQQG2  1384719342   \n",
       "4   A94QU4C90B1AX  1384719342   \n",
       "\n",
       "                                       reviewerName   helpful  overall  \\\n",
       "0  cassandra tu \"Yeah, well, that's just like, u...    [0, 0]      5.0   \n",
       "1                                              Jake  [13, 14]      5.0   \n",
       "2                     Rick Bennette \"Rick Bennette\"    [1, 1]      5.0   \n",
       "3                         RustyBill \"Sunday Rocker\"    [0, 0]      5.0   \n",
       "4                                     SEAN MASLANKA    [0, 0]      5.0   \n",
       "\n",
       "   unixReviewTime   reviewTime   category  \\\n",
       "0      1393545600  02 28, 2014  I love it   \n",
       "1      1363392000  03 16, 2013  I love it   \n",
       "2      1377648000  08 28, 2013  I love it   \n",
       "3      1392336000  02 14, 2014  I love it   \n",
       "4      1392940800  02 21, 2014  I love it   \n",
       "\n",
       "                                              review  \n",
       "0  Not much to write about here, but it does exac...  \n",
       "1  The product does exactly as it should and is q...  \n",
       "2  The primary job of this device is to block the...  \n",
       "3  Nice windscreen protects my MXL mic and preven...  \n",
       "4  This pop filter is great. It looks and perform...  "
      ]
     },
     "execution_count": 11,
     "metadata": {},
     "output_type": "execute_result"
    }
   ],
   "source": [
    "df_review.head()"
   ]
  },
  {
   "cell_type": "markdown",
   "metadata": {
    "papermill": {
     "duration": 0.040109,
     "end_time": "2021-09-23T13:02:38.192883",
     "exception": false,
     "start_time": "2021-09-23T13:02:38.152774",
     "status": "completed"
    },
    "tags": []
   },
   "source": [
    "* Our goal is predict the overall rating based on the comment/ review\n",
    "* so review/comment is input feature and overall rating is the label\n",
    "* This problem is mutliclass classification problem"
   ]
  },
  {
   "cell_type": "code",
   "execution_count": 12,
   "metadata": {
    "execution": {
     "iopub.execute_input": "2021-09-23T13:02:38.278983Z",
     "iopub.status.busy": "2021-09-23T13:02:38.278308Z",
     "iopub.status.idle": "2021-09-23T13:02:38.286617Z",
     "shell.execute_reply": "2021-09-23T13:02:38.287092Z",
     "shell.execute_reply.started": "2021-09-23T11:39:54.276029Z"
    },
    "papermill": {
     "duration": 0.054371,
     "end_time": "2021-09-23T13:02:38.287253",
     "exception": false,
     "start_time": "2021-09-23T13:02:38.232882",
     "status": "completed"
    },
    "tags": []
   },
   "outputs": [
    {
     "data": {
      "text/html": [
       "<div>\n",
       "<style scoped>\n",
       "    .dataframe tbody tr th:only-of-type {\n",
       "        vertical-align: middle;\n",
       "    }\n",
       "\n",
       "    .dataframe tbody tr th {\n",
       "        vertical-align: top;\n",
       "    }\n",
       "\n",
       "    .dataframe thead th {\n",
       "        text-align: right;\n",
       "    }\n",
       "</style>\n",
       "<table border=\"1\" class=\"dataframe\">\n",
       "  <thead>\n",
       "    <tr style=\"text-align: right;\">\n",
       "      <th></th>\n",
       "      <th>review</th>\n",
       "      <th>overall</th>\n",
       "    </tr>\n",
       "  </thead>\n",
       "  <tbody>\n",
       "    <tr>\n",
       "      <th>0</th>\n",
       "      <td>Not much to write about here, but it does exac...</td>\n",
       "      <td>5.0</td>\n",
       "    </tr>\n",
       "    <tr>\n",
       "      <th>1</th>\n",
       "      <td>The product does exactly as it should and is q...</td>\n",
       "      <td>5.0</td>\n",
       "    </tr>\n",
       "    <tr>\n",
       "      <th>2</th>\n",
       "      <td>The primary job of this device is to block the...</td>\n",
       "      <td>5.0</td>\n",
       "    </tr>\n",
       "    <tr>\n",
       "      <th>3</th>\n",
       "      <td>Nice windscreen protects my MXL mic and preven...</td>\n",
       "      <td>5.0</td>\n",
       "    </tr>\n",
       "    <tr>\n",
       "      <th>4</th>\n",
       "      <td>This pop filter is great. It looks and perform...</td>\n",
       "      <td>5.0</td>\n",
       "    </tr>\n",
       "  </tbody>\n",
       "</table>\n",
       "</div>"
      ],
      "text/plain": [
       "                                              review  overall\n",
       "0  Not much to write about here, but it does exac...      5.0\n",
       "1  The product does exactly as it should and is q...      5.0\n",
       "2  The primary job of this device is to block the...      5.0\n",
       "3  Nice windscreen protects my MXL mic and preven...      5.0\n",
       "4  This pop filter is great. It looks and perform...      5.0"
      ]
     },
     "execution_count": 12,
     "metadata": {},
     "output_type": "execute_result"
    }
   ],
   "source": [
    "# create a dataframe that has only reviewText and overall rating\n",
    "df = df_review[['review', 'overall']].copy()\n",
    "df.head()"
   ]
  },
  {
   "cell_type": "markdown",
   "metadata": {
    "papermill": {
     "duration": 0.040653,
     "end_time": "2021-09-23T13:02:38.369107",
     "exception": false,
     "start_time": "2021-09-23T13:02:38.328454",
     "status": "completed"
    },
    "tags": []
   },
   "source": [
    "#### Text Preprocessing"
   ]
  },
  {
   "cell_type": "code",
   "execution_count": 13,
   "metadata": {
    "execution": {
     "iopub.execute_input": "2021-09-23T13:02:38.454116Z",
     "iopub.status.busy": "2021-09-23T13:02:38.453523Z",
     "iopub.status.idle": "2021-09-23T13:02:38.460099Z",
     "shell.execute_reply": "2021-09-23T13:02:38.459597Z",
     "shell.execute_reply.started": "2021-09-23T11:40:24.968096Z"
    },
    "papermill": {
     "duration": 0.049746,
     "end_time": "2021-09-23T13:02:38.460228",
     "exception": false,
     "start_time": "2021-09-23T13:02:38.410482",
     "status": "completed"
    },
    "tags": []
   },
   "outputs": [],
   "source": [
    "# defing the funtion for remoing the punctuation\n",
    "def clean(text):\n",
    "\n",
    "  # converting the all the text into lowercase\n",
    "  text = str(text).lower()\n",
    "  text = re.sub('\\[.*?\\]', '', text)\n",
    "  text = re.sub('https?://\\S+|www\\.\\S+', '', text)\n",
    "  text = re.sub('<.*?>+', '', text)\n",
    "  text = re.sub('[%s]' % re.escape(string.punctuation), '', text)\n",
    "  text = re.sub('\\n', '', text)\n",
    "  text = re.sub('\\w*\\d\\w*', '', text)\n",
    "  return text"
   ]
  },
  {
   "cell_type": "code",
   "execution_count": 14,
   "metadata": {
    "execution": {
     "iopub.execute_input": "2021-09-23T13:02:38.545349Z",
     "iopub.status.busy": "2021-09-23T13:02:38.544726Z",
     "iopub.status.idle": "2021-09-23T13:02:39.995029Z",
     "shell.execute_reply": "2021-09-23T13:02:39.995548Z",
     "shell.execute_reply.started": "2021-09-23T11:40:35.876516Z"
    },
    "papermill": {
     "duration": 1.495047,
     "end_time": "2021-09-23T13:02:39.995775",
     "exception": false,
     "start_time": "2021-09-23T13:02:38.500728",
     "status": "completed"
    },
    "tags": []
   },
   "outputs": [
    {
     "data": {
      "text/html": [
       "<div>\n",
       "<style scoped>\n",
       "    .dataframe tbody tr th:only-of-type {\n",
       "        vertical-align: middle;\n",
       "    }\n",
       "\n",
       "    .dataframe tbody tr th {\n",
       "        vertical-align: top;\n",
       "    }\n",
       "\n",
       "    .dataframe thead th {\n",
       "        text-align: right;\n",
       "    }\n",
       "</style>\n",
       "<table border=\"1\" class=\"dataframe\">\n",
       "  <thead>\n",
       "    <tr style=\"text-align: right;\">\n",
       "      <th></th>\n",
       "      <th>review</th>\n",
       "      <th>overall</th>\n",
       "    </tr>\n",
       "  </thead>\n",
       "  <tbody>\n",
       "    <tr>\n",
       "      <th>0</th>\n",
       "      <td>not much to write about here but it does exact...</td>\n",
       "      <td>5.0</td>\n",
       "    </tr>\n",
       "    <tr>\n",
       "      <th>1</th>\n",
       "      <td>the product does exactly as it should and is q...</td>\n",
       "      <td>5.0</td>\n",
       "    </tr>\n",
       "    <tr>\n",
       "      <th>2</th>\n",
       "      <td>the primary job of this device is to block the...</td>\n",
       "      <td>5.0</td>\n",
       "    </tr>\n",
       "    <tr>\n",
       "      <th>3</th>\n",
       "      <td>nice windscreen protects my mxl mic and preven...</td>\n",
       "      <td>5.0</td>\n",
       "    </tr>\n",
       "    <tr>\n",
       "      <th>4</th>\n",
       "      <td>this pop filter is great it looks and performs...</td>\n",
       "      <td>5.0</td>\n",
       "    </tr>\n",
       "  </tbody>\n",
       "</table>\n",
       "</div>"
      ],
      "text/plain": [
       "                                              review  overall\n",
       "0  not much to write about here but it does exact...      5.0\n",
       "1  the product does exactly as it should and is q...      5.0\n",
       "2  the primary job of this device is to block the...      5.0\n",
       "3  nice windscreen protects my mxl mic and preven...      5.0\n",
       "4  this pop filter is great it looks and performs...      5.0"
      ]
     },
     "execution_count": 14,
     "metadata": {},
     "output_type": "execute_result"
    }
   ],
   "source": [
    "# apply the clean function on dataframe\n",
    "df['review'] = df.review.apply(lambda x: clean(x))\n",
    "df.head()"
   ]
  },
  {
   "cell_type": "code",
   "execution_count": 15,
   "metadata": {
    "execution": {
     "iopub.execute_input": "2021-09-23T13:02:40.084658Z",
     "iopub.status.busy": "2021-09-23T13:02:40.084041Z",
     "iopub.status.idle": "2021-09-23T13:02:40.171890Z",
     "shell.execute_reply": "2021-09-23T13:02:40.171400Z",
     "shell.execute_reply.started": "2021-09-23T11:40:46.411937Z"
    },
    "papermill": {
     "duration": 0.132969,
     "end_time": "2021-09-23T13:02:40.172018",
     "exception": false,
     "start_time": "2021-09-23T13:02:40.039049",
     "status": "completed"
    },
    "tags": []
   },
   "outputs": [
    {
     "name": "stderr",
     "output_type": "stream",
     "text": [
      "[nltk_data] Downloading package stopwords to\n",
      "[nltk_data]     C:\\Users\\Lenovo\\AppData\\Roaming\\nltk_data...\n",
      "[nltk_data]   Unzipping corpora\\stopwords.zip.\n"
     ]
    },
    {
     "data": {
      "text/plain": [
       "True"
      ]
     },
     "execution_count": 15,
     "metadata": {},
     "output_type": "execute_result"
    }
   ],
   "source": [
    "nltk.download('stopwords')"
   ]
  },
  {
   "cell_type": "code",
   "execution_count": 16,
   "metadata": {
    "execution": {
     "iopub.execute_input": "2021-09-23T13:02:40.263744Z",
     "iopub.status.busy": "2021-09-23T13:02:40.261278Z",
     "iopub.status.idle": "2021-09-23T13:04:37.799106Z",
     "shell.execute_reply": "2021-09-23T13:04:37.799622Z",
     "shell.execute_reply.started": "2021-09-23T11:40:58.147764Z"
    },
    "papermill": {
     "duration": 117.585136,
     "end_time": "2021-09-23T13:04:37.799815",
     "exception": false,
     "start_time": "2021-09-23T13:02:40.214679",
     "status": "completed"
    },
    "tags": []
   },
   "outputs": [
    {
     "data": {
      "text/html": [
       "<div>\n",
       "<style scoped>\n",
       "    .dataframe tbody tr th:only-of-type {\n",
       "        vertical-align: middle;\n",
       "    }\n",
       "\n",
       "    .dataframe tbody tr th {\n",
       "        vertical-align: top;\n",
       "    }\n",
       "\n",
       "    .dataframe thead th {\n",
       "        text-align: right;\n",
       "    }\n",
       "</style>\n",
       "<table border=\"1\" class=\"dataframe\">\n",
       "  <thead>\n",
       "    <tr style=\"text-align: right;\">\n",
       "      <th></th>\n",
       "      <th>review</th>\n",
       "      <th>overall</th>\n",
       "    </tr>\n",
       "  </thead>\n",
       "  <tbody>\n",
       "    <tr>\n",
       "      <th>0</th>\n",
       "      <td>much write exactly supposed filters pop sounds...</td>\n",
       "      <td>5.0</td>\n",
       "    </tr>\n",
       "    <tr>\n",
       "      <th>1</th>\n",
       "      <td>product exactly quite affordablei realized dou...</td>\n",
       "      <td>5.0</td>\n",
       "    </tr>\n",
       "    <tr>\n",
       "      <th>2</th>\n",
       "      <td>primary job device block breath would otherwis...</td>\n",
       "      <td>5.0</td>\n",
       "    </tr>\n",
       "    <tr>\n",
       "      <th>3</th>\n",
       "      <td>nice windscreen protects mxl mic prevents pops...</td>\n",
       "      <td>5.0</td>\n",
       "    </tr>\n",
       "    <tr>\n",
       "      <th>4</th>\n",
       "      <td>pop filter great looks performs like studio fi...</td>\n",
       "      <td>5.0</td>\n",
       "    </tr>\n",
       "  </tbody>\n",
       "</table>\n",
       "</div>"
      ],
      "text/plain": [
       "                                              review  overall\n",
       "0  much write exactly supposed filters pop sounds...      5.0\n",
       "1  product exactly quite affordablei realized dou...      5.0\n",
       "2  primary job device block breath would otherwis...      5.0\n",
       "3  nice windscreen protects mxl mic prevents pops...      5.0\n",
       "4  pop filter great looks performs like studio fi...      5.0"
      ]
     },
     "execution_count": 16,
     "metadata": {},
     "output_type": "execute_result"
    }
   ],
   "source": [
    "# remove the stop_words from the reivew\n",
    "df['review']= df.review.apply(lambda x: ' '.join([word for word in x.split() if word not in stopwords.words('english')]))\n",
    "df.head()"
   ]
  },
  {
   "cell_type": "code",
   "execution_count": 17,
   "metadata": {
    "execution": {
     "iopub.execute_input": "2021-09-23T13:04:37.892112Z",
     "iopub.status.busy": "2021-09-23T13:04:37.891483Z",
     "iopub.status.idle": "2021-09-23T13:04:37.956576Z",
     "shell.execute_reply": "2021-09-23T13:04:37.956067Z",
     "shell.execute_reply.started": "2021-09-23T11:42:56.726323Z"
    },
    "papermill": {
     "duration": 0.11376,
     "end_time": "2021-09-23T13:04:37.956708",
     "exception": false,
     "start_time": "2021-09-23T13:04:37.842948",
     "status": "completed"
    },
    "tags": []
   },
   "outputs": [
    {
     "name": "stderr",
     "output_type": "stream",
     "text": [
      "[nltk_data] Downloading package wordnet to\n",
      "[nltk_data]     C:\\Users\\Lenovo\\AppData\\Roaming\\nltk_data...\n",
      "[nltk_data]   Package wordnet is already up-to-date!\n"
     ]
    },
    {
     "data": {
      "text/plain": [
       "True"
      ]
     },
     "execution_count": 17,
     "metadata": {},
     "output_type": "execute_result"
    }
   ],
   "source": [
    "nltk.download('wordnet')"
   ]
  },
  {
   "cell_type": "code",
   "execution_count": 18,
   "metadata": {
    "execution": {
     "iopub.execute_input": "2021-09-23T13:04:38.052729Z",
     "iopub.status.busy": "2021-09-23T13:04:38.052052Z",
     "iopub.status.idle": "2021-09-23T13:04:42.820441Z",
     "shell.execute_reply": "2021-09-23T13:04:42.819468Z",
     "shell.execute_reply.started": "2021-09-23T11:42:56.804408Z"
    },
    "papermill": {
     "duration": 4.819679,
     "end_time": "2021-09-23T13:04:42.820589",
     "exception": false,
     "start_time": "2021-09-23T13:04:38.000910",
     "status": "completed"
    },
    "tags": []
   },
   "outputs": [
    {
     "data": {
      "text/html": [
       "<div>\n",
       "<style scoped>\n",
       "    .dataframe tbody tr th:only-of-type {\n",
       "        vertical-align: middle;\n",
       "    }\n",
       "\n",
       "    .dataframe tbody tr th {\n",
       "        vertical-align: top;\n",
       "    }\n",
       "\n",
       "    .dataframe thead th {\n",
       "        text-align: right;\n",
       "    }\n",
       "</style>\n",
       "<table border=\"1\" class=\"dataframe\">\n",
       "  <thead>\n",
       "    <tr style=\"text-align: right;\">\n",
       "      <th></th>\n",
       "      <th>review</th>\n",
       "      <th>overall</th>\n",
       "    </tr>\n",
       "  </thead>\n",
       "  <tbody>\n",
       "    <tr>\n",
       "      <th>0</th>\n",
       "      <td>much write exactly supposed filter pop sound r...</td>\n",
       "      <td>5.0</td>\n",
       "    </tr>\n",
       "    <tr>\n",
       "      <th>1</th>\n",
       "      <td>product exactly quite affordablei realized dou...</td>\n",
       "      <td>5.0</td>\n",
       "    </tr>\n",
       "    <tr>\n",
       "      <th>2</th>\n",
       "      <td>primary job device block breath would otherwis...</td>\n",
       "      <td>5.0</td>\n",
       "    </tr>\n",
       "    <tr>\n",
       "      <th>3</th>\n",
       "      <td>nice windscreen protects mxl mic prevents pop ...</td>\n",
       "      <td>5.0</td>\n",
       "    </tr>\n",
       "    <tr>\n",
       "      <th>4</th>\n",
       "      <td>pop filter great look performs like studio fil...</td>\n",
       "      <td>5.0</td>\n",
       "    </tr>\n",
       "  </tbody>\n",
       "</table>\n",
       "</div>"
      ],
      "text/plain": [
       "                                              review  overall\n",
       "0  much write exactly supposed filter pop sound r...      5.0\n",
       "1  product exactly quite affordablei realized dou...      5.0\n",
       "2  primary job device block breath would otherwis...      5.0\n",
       "3  nice windscreen protects mxl mic prevents pop ...      5.0\n",
       "4  pop filter great look performs like studio fil...      5.0"
      ]
     },
     "execution_count": 18,
     "metadata": {},
     "output_type": "execute_result"
    }
   ],
   "source": [
    "# conveting the words into the root words using the WordNetLemmatizer\n",
    "lemmatizer = WordNetLemmatizer()\n",
    "df['review'] = df.review.apply(lambda x: ' '.join([lemmatizer.lemmatize(word) for word in x.split()]))\n",
    "df.head()"
   ]
  },
  {
   "cell_type": "code",
   "execution_count": 19,
   "metadata": {
    "execution": {
     "iopub.execute_input": "2021-09-23T13:04:42.953127Z",
     "iopub.status.busy": "2021-09-23T13:04:42.913692Z",
     "iopub.status.idle": "2021-09-23T13:04:57.871209Z",
     "shell.execute_reply": "2021-09-23T13:04:57.870682Z",
     "shell.execute_reply.started": "2021-09-23T11:43:01.752882Z"
    },
    "papermill": {
     "duration": 15.005384,
     "end_time": "2021-09-23T13:04:57.871367",
     "exception": false,
     "start_time": "2021-09-23T13:04:42.865983",
     "status": "completed"
    },
    "tags": []
   },
   "outputs": [
    {
     "data": {
      "text/html": [
       "<div>\n",
       "<style scoped>\n",
       "    .dataframe tbody tr th:only-of-type {\n",
       "        vertical-align: middle;\n",
       "    }\n",
       "\n",
       "    .dataframe tbody tr th {\n",
       "        vertical-align: top;\n",
       "    }\n",
       "\n",
       "    .dataframe thead th {\n",
       "        text-align: right;\n",
       "    }\n",
       "</style>\n",
       "<table border=\"1\" class=\"dataframe\">\n",
       "  <thead>\n",
       "    <tr style=\"text-align: right;\">\n",
       "      <th></th>\n",
       "      <th>review</th>\n",
       "      <th>overall</th>\n",
       "    </tr>\n",
       "  </thead>\n",
       "  <tbody>\n",
       "    <tr>\n",
       "      <th>0</th>\n",
       "      <td>much write exactli suppos filter pop sound rec...</td>\n",
       "      <td>5.0</td>\n",
       "    </tr>\n",
       "    <tr>\n",
       "      <th>1</th>\n",
       "      <td>product exactli quit affordablei realiz doubl ...</td>\n",
       "      <td>5.0</td>\n",
       "    </tr>\n",
       "    <tr>\n",
       "      <th>2</th>\n",
       "      <td>primari job devic block breath would otherwis ...</td>\n",
       "      <td>5.0</td>\n",
       "    </tr>\n",
       "    <tr>\n",
       "      <th>3</th>\n",
       "      <td>nice windscreen protect mxl mic prevent pop th...</td>\n",
       "      <td>5.0</td>\n",
       "    </tr>\n",
       "    <tr>\n",
       "      <th>4</th>\n",
       "      <td>pop filter great look perform like studio filt...</td>\n",
       "      <td>5.0</td>\n",
       "    </tr>\n",
       "  </tbody>\n",
       "</table>\n",
       "</div>"
      ],
      "text/plain": [
       "                                              review  overall\n",
       "0  much write exactli suppos filter pop sound rec...      5.0\n",
       "1  product exactli quit affordablei realiz doubl ...      5.0\n",
       "2  primari job devic block breath would otherwis ...      5.0\n",
       "3  nice windscreen protect mxl mic prevent pop th...      5.0\n",
       "4  pop filter great look perform like studio filt...      5.0"
      ]
     },
     "execution_count": 19,
     "metadata": {},
     "output_type": "execute_result"
    }
   ],
   "source": [
    "# converting the words into base words using stemming method\n",
    "ps = PorterStemmer()\n",
    "df['review']= df.review.apply(lambda x: ' '.join([ps.stem(word) for word in x.split()]))\n",
    "df.head()"
   ]
  },
  {
   "cell_type": "code",
   "execution_count": 20,
   "metadata": {
    "execution": {
     "iopub.execute_input": "2021-09-23T13:04:57.964211Z",
     "iopub.status.busy": "2021-09-23T13:04:57.963613Z",
     "iopub.status.idle": "2021-09-23T13:05:03.105792Z",
     "shell.execute_reply": "2021-09-23T13:05:03.105211Z",
     "shell.execute_reply.started": "2021-09-23T11:43:16.704206Z"
    },
    "papermill": {
     "duration": 5.18959,
     "end_time": "2021-09-23T13:05:03.105947",
     "exception": false,
     "start_time": "2021-09-23T13:04:57.916357",
     "status": "completed"
    },
    "tags": []
   },
   "outputs": [],
   "source": [
    "# featuers extraction most 5000 best features from the all featues with 1 to 3 gram using TF-IDF\n",
    "tfidf = TfidfVectorizer(max_features=5000, ngram_range=(1,3))\n",
    "x = tfidf.fit_transform(df['review'])"
   ]
  },
  {
   "cell_type": "code",
   "execution_count": 21,
   "metadata": {
    "execution": {
     "iopub.execute_input": "2021-09-23T13:05:03.204911Z",
     "iopub.status.busy": "2021-09-23T13:05:03.204266Z",
     "iopub.status.idle": "2021-09-23T13:05:03.207232Z",
     "shell.execute_reply": "2021-09-23T13:05:03.208021Z",
     "shell.execute_reply.started": "2021-09-23T11:43:22.111399Z"
    },
    "papermill": {
     "duration": 0.057022,
     "end_time": "2021-09-23T13:05:03.208231",
     "exception": false,
     "start_time": "2021-09-23T13:05:03.151209",
     "status": "completed"
    },
    "tags": []
   },
   "outputs": [
    {
     "name": "stdout",
     "output_type": "stream",
     "text": [
      "Origonal no samples of each ratting Counter({5.0: 6938, 4.0: 2084, 3.0: 772, 2.0: 250, 1.0: 217})\n",
      "original shape of the input features (10261, 5000)\n",
      "origonal shape of the output features (10261,)\n"
     ]
    }
   ],
   "source": [
    "# label of featuere\n",
    "y = df['overall']\n",
    "print('Origonal no samples of each ratting {}'.format(Counter(y)))\n",
    "print('original shape of the input features {}'.format(x.shape))\n",
    "print('origonal shape of the output features {}'.format(y.shape))"
   ]
  },
  {
   "cell_type": "markdown",
   "metadata": {
    "papermill": {
     "duration": 0.044864,
     "end_time": "2021-09-23T13:05:03.299681",
     "exception": false,
     "start_time": "2021-09-23T13:05:03.254817",
     "status": "completed"
    },
    "tags": []
   },
   "source": [
    "+ we can easly see that five classess has different number of samples so we need to handle this\n",
    "+ we are using the over_sampling technique to handle the imbalance dataset"
   ]
  },
  {
   "cell_type": "code",
   "execution_count": 22,
   "metadata": {
    "execution": {
     "iopub.execute_input": "2021-09-23T13:05:03.395501Z",
     "iopub.status.busy": "2021-09-23T13:05:03.394846Z",
     "iopub.status.idle": "2021-09-23T13:05:03.826685Z",
     "shell.execute_reply": "2021-09-23T13:05:03.827669Z",
     "shell.execute_reply.started": "2021-09-23T11:43:22.123164Z"
    },
    "papermill": {
     "duration": 0.482508,
     "end_time": "2021-09-23T13:05:03.827921",
     "exception": false,
     "start_time": "2021-09-23T13:05:03.345413",
     "status": "completed"
    },
    "tags": []
   },
   "outputs": [
    {
     "name": "stdout",
     "output_type": "stream",
     "text": [
      "Before sampling the  shape of dataset Counter({5.0: 6938, 4.0: 2084, 3.0: 772, 2.0: 250, 1.0: 217})\n",
      "After sampling the shape of dataset Counter({5.0: 6938, 3.0: 6938, 4.0: 6938, 2.0: 6938, 1.0: 6938})\n"
     ]
    }
   ],
   "source": [
    "# create the SMOTE over_sampling technique object and fit_resample the features\n",
    "sm = SMOTE()\n",
    "x_res, y_res = sm.fit_resample(x, y)\n",
    "print('Before sampling the  shape of dataset {}'.format(Counter(y)))\n",
    "print('After sampling the shape of dataset {}'.format(Counter(y_res)))"
   ]
  },
  {
   "cell_type": "code",
   "execution_count": 23,
   "metadata": {
    "execution": {
     "iopub.execute_input": "2021-09-23T13:05:03.924190Z",
     "iopub.status.busy": "2021-09-23T13:05:03.923577Z",
     "iopub.status.idle": "2021-09-23T13:05:03.937874Z",
     "shell.execute_reply": "2021-09-23T13:05:03.938317Z",
     "shell.execute_reply.started": "2021-09-23T11:43:22.610262Z"
    },
    "papermill": {
     "duration": 0.065441,
     "end_time": "2021-09-23T13:05:03.938516",
     "exception": false,
     "start_time": "2021-09-23T13:05:03.873075",
     "status": "completed"
    },
    "tags": []
   },
   "outputs": [],
   "source": [
    "# create the test and train set\n",
    "x_train, x_test, y_train, y_test = train_test_split(x_res, y_res, random_state=0, test_size=0.25)"
   ]
  },
  {
   "cell_type": "code",
   "execution_count": 24,
   "metadata": {
    "execution": {
     "iopub.execute_input": "2021-09-23T13:05:04.033301Z",
     "iopub.status.busy": "2021-09-23T13:05:04.032636Z",
     "iopub.status.idle": "2021-09-23T13:05:04.039946Z",
     "shell.execute_reply": "2021-09-23T13:05:04.039304Z",
     "shell.execute_reply.started": "2021-09-23T11:43:22.639193Z"
    },
    "papermill": {
     "duration": 0.05611,
     "end_time": "2021-09-23T13:05:04.040086",
     "exception": false,
     "start_time": "2021-09-23T13:05:03.983976",
     "status": "completed"
    },
    "tags": []
   },
   "outputs": [],
   "source": [
    "# model selection\n",
    "# cross validation score\n",
    "def cross_validation(model,x,y):\n",
    "\n",
    "  cross_value_scored = []\n",
    "  for model in models:\n",
    "      model_name = model.__class__.__name__\n",
    "      accuracies= cross_val_score(model, x, y, scoring = 'accuracy', cv = 5)\n",
    "      for accuracy in accuracies:\n",
    "          cross_value_scored.append((model_name, accuracy))\n",
    "  df_cv = pd.DataFrame(cross_value_scored, columns =['model_name', 'accuracy'])\n",
    "  acc = pd.concat([df_cv.groupby('model_name').accuracy.mean(),df_cv.groupby('model_name').accuracy.std()], axis= 1,ignore_index=True)\n",
    "  acc.columns = ['Mean Accuracy', 'Standard deviation']\n",
    "  return acc"
   ]
  },
  {
   "cell_type": "code",
   "execution_count": 25,
   "metadata": {
    "execution": {
     "iopub.execute_input": "2021-09-23T13:05:04.138586Z",
     "iopub.status.busy": "2021-09-23T13:05:04.137944Z",
     "iopub.status.idle": "2021-09-23T13:25:38.273489Z",
     "shell.execute_reply": "2021-09-23T13:25:38.274045Z",
     "shell.execute_reply.started": "2021-09-23T11:43:22.653364Z"
    },
    "papermill": {
     "duration": 1234.188104,
     "end_time": "2021-09-23T13:25:38.274385",
     "exception": false,
     "start_time": "2021-09-23T13:05:04.086281",
     "status": "completed"
    },
    "tags": []
   },
   "outputs": [
    {
     "name": "stderr",
     "output_type": "stream",
     "text": [
      "/opt/conda/lib/python3.7/site-packages/xgboost/sklearn.py:1146: UserWarning: The use of label encoder in XGBClassifier is deprecated and will be removed in a future release. To remove this warning, do the following: 1) Pass option use_label_encoder=False when constructing XGBClassifier object; and 2) Encode your labels (y) as integers starting with 0, i.e. 0, 1, 2, ..., [num_class - 1].\n",
      "  warnings.warn(label_encoder_deprecation_msg, UserWarning)\n"
     ]
    },
    {
     "name": "stdout",
     "output_type": "stream",
     "text": [
      "[13:05:18] WARNING: ../src/learner.cc:1095: Starting in XGBoost 1.3.0, the default evaluation metric used with the objective 'multi:softprob' was changed from 'merror' to 'mlogloss'. Explicitly set eval_metric if you'd like to restore the old behavior.\n",
      "[13:09:12] WARNING: ../src/learner.cc:1095: Starting in XGBoost 1.3.0, the default evaluation metric used with the objective 'multi:softprob' was changed from 'merror' to 'mlogloss'. Explicitly set eval_metric if you'd like to restore the old behavior.\n",
      "[13:13:03] WARNING: ../src/learner.cc:1095: Starting in XGBoost 1.3.0, the default evaluation metric used with the objective 'multi:softprob' was changed from 'merror' to 'mlogloss'. Explicitly set eval_metric if you'd like to restore the old behavior.\n",
      "[13:16:48] WARNING: ../src/learner.cc:1095: Starting in XGBoost 1.3.0, the default evaluation metric used with the objective 'multi:softprob' was changed from 'merror' to 'mlogloss'. Explicitly set eval_metric if you'd like to restore the old behavior.\n",
      "[13:20:31] WARNING: ../src/learner.cc:1095: Starting in XGBoost 1.3.0, the default evaluation metric used with the objective 'multi:softprob' was changed from 'merror' to 'mlogloss'. Explicitly set eval_metric if you'd like to restore the old behavior.\n"
     ]
    },
    {
     "data": {
      "text/html": [
       "<div>\n",
       "<style scoped>\n",
       "    .dataframe tbody tr th:only-of-type {\n",
       "        vertical-align: middle;\n",
       "    }\n",
       "\n",
       "    .dataframe tbody tr th {\n",
       "        vertical-align: top;\n",
       "    }\n",
       "\n",
       "    .dataframe thead th {\n",
       "        text-align: right;\n",
       "    }\n",
       "</style>\n",
       "<table border=\"1\" class=\"dataframe\">\n",
       "  <thead>\n",
       "    <tr style=\"text-align: right;\">\n",
       "      <th></th>\n",
       "      <th>Mean Accuracy</th>\n",
       "      <th>Standard deviation</th>\n",
       "    </tr>\n",
       "    <tr>\n",
       "      <th>model_name</th>\n",
       "      <th></th>\n",
       "      <th></th>\n",
       "    </tr>\n",
       "  </thead>\n",
       "  <tbody>\n",
       "    <tr>\n",
       "      <th>BernoulliNB</th>\n",
       "      <td>0.690775</td>\n",
       "      <td>0.059296</td>\n",
       "    </tr>\n",
       "    <tr>\n",
       "      <th>KNeighborsClassifier</th>\n",
       "      <td>0.785673</td>\n",
       "      <td>0.014815</td>\n",
       "    </tr>\n",
       "    <tr>\n",
       "      <th>LinearSVC</th>\n",
       "      <td>0.913001</td>\n",
       "      <td>0.014403</td>\n",
       "    </tr>\n",
       "    <tr>\n",
       "      <th>RandomForestClassifier</th>\n",
       "      <td>0.632113</td>\n",
       "      <td>0.040285</td>\n",
       "    </tr>\n",
       "    <tr>\n",
       "      <th>XGBClassifier</th>\n",
       "      <td>0.898789</td>\n",
       "      <td>0.083601</td>\n",
       "    </tr>\n",
       "  </tbody>\n",
       "</table>\n",
       "</div>"
      ],
      "text/plain": [
       "                        Mean Accuracy  Standard deviation\n",
       "model_name                                               \n",
       "BernoulliNB                  0.690775            0.059296\n",
       "KNeighborsClassifier         0.785673            0.014815\n",
       "LinearSVC                    0.913001            0.014403\n",
       "RandomForestClassifier       0.632113            0.040285\n",
       "XGBClassifier                0.898789            0.083601"
      ]
     },
     "execution_count": 25,
     "metadata": {},
     "output_type": "execute_result"
    }
   ],
   "source": [
    "# define all the models\n",
    "models = [\n",
    "    RandomForestClassifier(n_estimators=100, max_depth=5, random_state=0),\n",
    "    XGBClassifier(),\n",
    "    LinearSVC(),\n",
    "    BernoulliNB(),\n",
    "    KNeighborsClassifier()\n",
    "    \n",
    "]\n",
    "# calling the cross_validation function\n",
    "cross_validation(models, x_res, y_res)"
   ]
  },
  {
   "cell_type": "code",
   "execution_count": 26,
   "metadata": {
    "execution": {
     "iopub.execute_input": "2021-09-23T13:25:38.379007Z",
     "iopub.status.busy": "2021-09-23T13:25:38.378322Z",
     "iopub.status.idle": "2021-09-23T13:25:38.381798Z",
     "shell.execute_reply": "2021-09-23T13:25:38.381221Z",
     "shell.execute_reply.started": "2021-09-23T12:03:40.577938Z"
    },
    "papermill": {
     "duration": 0.059404,
     "end_time": "2021-09-23T13:25:38.381942",
     "exception": false,
     "start_time": "2021-09-23T13:25:38.322538",
     "status": "completed"
    },
    "tags": []
   },
   "outputs": [],
   "source": [
    "# Training the model and predict \n",
    "def train_predict_final_model(x_train, y_train, x_test):\n",
    "  svc = LinearSVC(C=100.0, random_state=0)\n",
    "  svc.fit(x_train, y_train)\n",
    "  return svc, svc.predict(x_test)"
   ]
  },
  {
   "cell_type": "code",
   "execution_count": 27,
   "metadata": {
    "execution": {
     "iopub.execute_input": "2021-09-23T13:25:38.483911Z",
     "iopub.status.busy": "2021-09-23T13:25:38.483195Z",
     "iopub.status.idle": "2021-09-23T13:25:56.634033Z",
     "shell.execute_reply": "2021-09-23T13:25:56.634553Z",
     "shell.execute_reply.started": "2021-09-23T12:03:40.586585Z"
    },
    "papermill": {
     "duration": 18.204011,
     "end_time": "2021-09-23T13:25:56.634726",
     "exception": false,
     "start_time": "2021-09-23T13:25:38.430715",
     "status": "completed"
    },
    "tags": []
   },
   "outputs": [
    {
     "name": "stdout",
     "output_type": "stream",
     "text": [
      "Accuracy of the model 0.9280525769629886\n"
     ]
    },
    {
     "name": "stderr",
     "output_type": "stream",
     "text": [
      "/opt/conda/lib/python3.7/site-packages/sklearn/svm/_base.py:977: ConvergenceWarning: Liblinear failed to converge, increase the number of iterations.\n",
      "  \"the number of iterations.\", ConvergenceWarning)\n"
     ]
    }
   ],
   "source": [
    "# call the train_predict_final_model\n",
    "model, y_pred = train_predict_final_model(x_train, y_train, x_test)\n",
    "print('Accuracy of the model {}'.format(accuracy_score(y_test, y_pred)))"
   ]
  },
  {
   "cell_type": "markdown",
   "metadata": {
    "papermill": {
     "duration": 0.048268,
     "end_time": "2021-09-23T13:25:56.734201",
     "exception": false,
     "start_time": "2021-09-23T13:25:56.685933",
     "status": "completed"
    },
    "tags": []
   },
   "source": [
    "+ Validate your build model, use any of your choice of validation matrices"
   ]
  },
  {
   "cell_type": "code",
   "execution_count": 28,
   "metadata": {
    "execution": {
     "iopub.execute_input": "2021-09-23T13:25:56.842403Z",
     "iopub.status.busy": "2021-09-23T13:25:56.841768Z",
     "iopub.status.idle": "2021-09-23T13:25:57.229172Z",
     "shell.execute_reply": "2021-09-23T13:25:57.228534Z",
     "shell.execute_reply.started": "2021-09-23T12:04:03.323509Z"
    },
    "papermill": {
     "duration": 0.443753,
     "end_time": "2021-09-23T13:25:57.229319",
     "exception": false,
     "start_time": "2021-09-23T13:25:56.785566",
     "status": "completed"
    },
    "tags": []
   },
   "outputs": [
    {
     "data": {
      "image/png": "[encoded data removed]",
      "text/plain": [
       "<Figure size 576x576 with 2 Axes>"
      ]
     },
     "metadata": {
      "needs_background": "light"
     },
     "output_type": "display_data"
    }
   ],
   "source": [
    "# plot the confusion matrix\n",
    "def confusion_matrix_plot(y_test, y_pred):\n",
    "  cm = confusion_matrix(y_test, y_pred)\n",
    "  fig, ax = plt.subplots(figsize=(8,8))\n",
    "  sns.heatmap(cm, annot=True, cmap = 'Reds',square = True,xticklabels = [1,2,3,4,5],yticklabels=[1,2,3,4,5])\n",
    "  plt.ylabel('Actual')\n",
    "  plt.xlabel('Predicted')\n",
    "  plt.title('Confusion Matrix.')\n",
    "\n",
    "# calling the confusion_matrix_plot function\n",
    "confusion_matrix_plot(y_test, y_pred)"
   ]
  },
  {
   "cell_type": "code",
   "execution_count": 29,
   "metadata": {
    "execution": {
     "iopub.execute_input": "2021-09-23T13:25:57.335333Z",
     "iopub.status.busy": "2021-09-23T13:25:57.334303Z",
     "iopub.status.idle": "2021-09-23T13:25:57.339577Z",
     "shell.execute_reply": "2021-09-23T13:25:57.339080Z",
     "shell.execute_reply.started": "2021-09-23T12:04:03.740181Z"
    },
    "papermill": {
     "duration": 0.060172,
     "end_time": "2021-09-23T13:25:57.339721",
     "exception": false,
     "start_time": "2021-09-23T13:25:57.279549",
     "status": "completed"
    },
    "tags": []
   },
   "outputs": [
    {
     "name": "stdout",
     "output_type": "stream",
     "text": [
      "Accuracy of the model 0.9280525769629886\n"
     ]
    }
   ],
   "source": [
    "print('Accuracy of the model {}'.format(accuracy_score(y_test, y_pred)))"
   ]
  },
  {
   "cell_type": "code",
   "execution_count": 30,
   "metadata": {
    "execution": {
     "iopub.execute_input": "2021-09-23T13:25:57.446493Z",
     "iopub.status.busy": "2021-09-23T13:25:57.445823Z",
     "iopub.status.idle": "2021-09-23T13:25:57.475059Z",
     "shell.execute_reply": "2021-09-23T13:25:57.474509Z",
     "shell.execute_reply.started": "2021-09-23T12:04:03.748349Z"
    },
    "papermill": {
     "duration": 0.085219,
     "end_time": "2021-09-23T13:25:57.475205",
     "exception": false,
     "start_time": "2021-09-23T13:25:57.389986",
     "status": "completed"
    },
    "tags": []
   },
   "outputs": [
    {
     "name": "stdout",
     "output_type": "stream",
     "text": [
      "Report of the model               precision    recall  f1-score   support\n",
      "\n",
      "         1.0       0.99      1.00      0.99      1713\n",
      "         2.0       0.99      1.00      0.99      1775\n",
      "         3.0       0.94      1.00      0.97      1752\n",
      "         4.0       0.82      0.93      0.87      1738\n",
      "         5.0       0.92      0.71      0.80      1695\n",
      "\n",
      "    accuracy                           0.93      8673\n",
      "   macro avg       0.93      0.93      0.92      8673\n",
      "weighted avg       0.93      0.93      0.93      8673\n",
      "\n"
     ]
    }
   ],
   "source": [
    "# report of the model\n",
    "print('Report of the model {}'.format(classification_report(y_test, y_pred)))"
   ]
  },
  {
   "cell_type": "code",
   "execution_count": 31,
   "metadata": {
    "execution": {
     "iopub.execute_input": "2021-09-23T13:25:57.596280Z",
     "iopub.status.busy": "2021-09-23T13:25:57.595393Z",
     "iopub.status.idle": "2021-09-23T13:25:57.598456Z",
     "shell.execute_reply": "2021-09-23T13:25:57.597916Z",
     "shell.execute_reply.started": "2021-09-23T12:04:03.788568Z"
    },
    "papermill": {
     "duration": 0.072069,
     "end_time": "2021-09-23T13:25:57.598622",
     "exception": false,
     "start_time": "2021-09-23T13:25:57.526553",
     "status": "completed"
    },
    "tags": []
   },
   "outputs": [],
   "source": [
    "# ploting the learning curver\n",
    "def plot_learning_curve(estimator, title, X, y, axes=None, ylim=None, cv=None,n_jobs=None, train_sizes=np.linspace(.1, 1.0, 5)):\n",
    "   \n",
    "       \n",
    "    if axes is None:\n",
    "        _, axes = plt.subplots(1, 3, figsize=(20, 5))\n",
    "\n",
    "    axes[0].set_title(title)\n",
    "    if ylim is not None:\n",
    "        axes[0].set_ylim(*ylim)\n",
    "    axes[0].set_xlabel(\"Training examples\")\n",
    "    axes[0].set_ylabel(\"Score\")\n",
    "\n",
    "    train_sizes, train_scores, test_scores, fit_times, _ = learning_curve(estimator, X, y, cv=cv, n_jobs=n_jobs,train_sizes=train_sizes,return_times=True)\n",
    "    train_scores_mean = np.mean(train_scores, axis=1)\n",
    "    train_scores_std = np.std(train_scores, axis=1)\n",
    "    test_scores_mean = np.mean(test_scores, axis=1)\n",
    "    test_scores_std = np.std(test_scores, axis=1)\n",
    "    fit_times_mean = np.mean(fit_times, axis=1)\n",
    "    fit_times_std = np.std(fit_times, axis=1)\n",
    "\n",
    "    # Plot learning curve\n",
    "    axes[0].grid()\n",
    "    axes[0].fill_between(train_sizes, train_scores_mean - train_scores_std,train_scores_mean + train_scores_std, alpha=0.1,color=\"r\")\n",
    "    axes[0].fill_between(train_sizes, test_scores_mean - test_scores_std,test_scores_mean + test_scores_std, alpha=0.1,color=\"g\")\n",
    "    axes[0].plot(train_sizes, train_scores_mean, 'o-', color=\"r\",label=\"Training score\")\n",
    "    axes[0].plot(train_sizes, test_scores_mean, 'o-', color=\"g\",label=\"Cross-validation score\")\n",
    "    axes[0].legend(loc=\"best\")\n",
    "\n",
    "    # Plot n_samples vs fit_times\n",
    "    axes[1].grid()\n",
    "    axes[1].plot(train_sizes, fit_times_mean, 'o-')\n",
    "    axes[1].fill_between(train_sizes, fit_times_mean - fit_times_std,fit_times_mean + fit_times_std, alpha=0.1)\n",
    "    axes[1].set_xlabel(\"Training examples\")\n",
    "    axes[1].set_ylabel(\"fit_times\")\n",
    "    axes[1].set_title(\"Scalability of the model\")\n",
    "\n",
    "    # Plot fit_time vs score\n",
    "    axes[2].grid()\n",
    "    axes[2].plot(fit_times_mean, test_scores_mean, 'o-')\n",
    "    axes[2].fill_between(fit_times_mean, test_scores_mean - test_scores_std,test_scores_mean + test_scores_std, alpha=0.1)\n",
    "    axes[2].set_xlabel(\"fit_times\")\n",
    "    axes[2].set_ylabel(\"Score\")\n",
    "    axes[2].set_title(\"Performance of the model\")\n",
    "\n",
    "    return plt"
   ]
  },
  {
   "cell_type": "code",
   "execution_count": 32,
   "metadata": {
    "execution": {
     "iopub.execute_input": "2021-09-23T13:25:57.728011Z",
     "iopub.status.busy": "2021-09-23T13:25:57.727173Z",
     "iopub.status.idle": "2021-09-23T14:04:01.968675Z",
     "shell.execute_reply": "2021-09-23T14:04:01.968049Z",
     "shell.execute_reply.started": "2021-09-23T12:04:03.810056Z"
    },
    "papermill": {
     "duration": 2284.319238,
     "end_time": "2021-09-23T14:04:01.968827",
     "exception": false,
     "start_time": "2021-09-23T13:25:57.649589",
     "status": "completed"
    },
    "tags": []
   },
   "outputs": [
    {
     "data": {
      "text/plain": [
       "<module 'matplotlib.pyplot' from '/opt/conda/lib/python3.7/site-packages/matplotlib/pyplot.py'>"
      ]
     },
     "execution_count": 32,
     "metadata": {},
     "output_type": "execute_result"
    },
    {
     "data": {
      "image/png": "[encoded data removed]",
      "text/plain": [
       "<Figure size 1440x360 with 3 Axes>"
      ]
     },
     "metadata": {
      "needs_background": "light"
     },
     "output_type": "display_data"
    }
   ],
   "source": [
    "title = 'Learning curve of LinearSVC'\n",
    "cv = ShuffleSplit(n_splits=100, test_size=0.2, random_state=0)\n",
    "estimator = LinearSVC(C=100.0)\n",
    "plot_learning_curve(estimator, title, x_res, y_res,  ylim=(0.7, 1.01),cv=cv, n_jobs=4)"
   ]
  },
  {
   "cell_type": "markdown",
   "metadata": {
    "papermill": {
     "duration": 0.052233,
     "end_time": "2021-09-23T14:04:02.073861",
     "exception": false,
     "start_time": "2021-09-23T14:04:02.021628",
     "status": "completed"
    },
    "tags": []
   },
   "source": [
    "Perform an Exploratory Data Analysis for the Text Data (Reviews) and help the organisation to understand better about their customer feedbacks."
   ]
  },
  {
   "cell_type": "code",
   "execution_count": 33,
   "metadata": {
    "execution": {
     "iopub.execute_input": "2021-09-23T14:04:02.211999Z",
     "iopub.status.busy": "2021-09-23T14:04:02.211012Z",
     "iopub.status.idle": "2021-09-23T14:04:02.429249Z",
     "shell.execute_reply": "2021-09-23T14:04:02.428723Z",
     "shell.execute_reply.started": "2021-09-23T12:45:13.279878Z"
    },
    "papermill": {
     "duration": 0.303013,
     "end_time": "2021-09-23T14:04:02.429388",
     "exception": false,
     "start_time": "2021-09-23T14:04:02.126375",
     "status": "completed"
    },
    "tags": []
   },
   "outputs": [
    {
     "data": {
      "image/png": "[encoded data removed]",
      "text/plain": [
       "<Figure size 432x432 with 1 Axes>"
      ]
     },
     "metadata": {
      "needs_background": "light"
     },
     "output_type": "display_data"
    }
   ],
   "source": [
    "# rating of the insturiments\n",
    "plt.figure(figsize=(6,6))\n",
    "plt.title('Rating of the Musical Instruments')\n",
    "ax = sns.countplot(y = 'overall', data = df_review)\n",
    "total = len(df_review)\n",
    "for p in ax.patches:\n",
    "        percentage = '{:.1f}%'.format(100 * p.get_width()/total)\n",
    "        x = p.get_x() + p.get_width() + 0.02\n",
    "        y = p.get_y() + p.get_height()/2\n",
    "        ax.annotate(percentage, (x, y))"
   ]
  },
  {
   "cell_type": "code",
   "execution_count": 34,
   "metadata": {
    "execution": {
     "iopub.execute_input": "2021-09-23T14:04:02.546083Z",
     "iopub.status.busy": "2021-09-23T14:04:02.545393Z",
     "iopub.status.idle": "2021-09-23T14:04:02.549265Z",
     "shell.execute_reply": "2021-09-23T14:04:02.549844Z",
     "shell.execute_reply.started": "2021-09-23T12:45:13.551128Z"
    },
    "papermill": {
     "duration": 0.066942,
     "end_time": "2021-09-23T14:04:02.550012",
     "exception": false,
     "start_time": "2021-09-23T14:04:02.483070",
     "status": "completed"
    },
    "tags": []
   },
   "outputs": [],
   "source": [
    "all_words = df.review.values\n",
    "negtive_words= df[df.overall <= 2.0]['review'].values\n",
    "positive_words = df[df.overall >= 4.0]['review'].values"
   ]
  },
  {
   "cell_type": "code",
   "execution_count": 35,
   "metadata": {
    "execution": {
     "iopub.execute_input": "2021-09-23T14:04:02.746992Z",
     "iopub.status.busy": "2021-09-23T14:04:02.746311Z",
     "iopub.status.idle": "2021-09-23T14:04:02.750199Z",
     "shell.execute_reply": "2021-09-23T14:04:02.750740Z",
     "shell.execute_reply.started": "2021-09-23T12:45:13.567623Z"
    },
    "papermill": {
     "duration": 0.146604,
     "end_time": "2021-09-23T14:04:02.750899",
     "exception": false,
     "start_time": "2021-09-23T14:04:02.604295",
     "status": "completed"
    },
    "tags": []
   },
   "outputs": [],
   "source": [
    "# conert string of list to word of list\n",
    "def string_to_word(words):\n",
    "  word = []\n",
    "  for w in words:\n",
    "    word.append(w.split())\n",
    "  return word"
   ]
  },
  {
   "cell_type": "code",
   "execution_count": 36,
   "metadata": {
    "execution": {
     "iopub.execute_input": "2021-09-23T14:04:02.860831Z",
     "iopub.status.busy": "2021-09-23T14:04:02.860191Z",
     "iopub.status.idle": "2021-09-23T14:04:02.865440Z",
     "shell.execute_reply": "2021-09-23T14:04:02.865861Z",
     "shell.execute_reply.started": "2021-09-23T12:45:13.580506Z"
    },
    "papermill": {
     "duration": 0.060987,
     "end_time": "2021-09-23T14:04:02.866018",
     "exception": false,
     "start_time": "2021-09-23T14:04:02.805031",
     "status": "completed"
    },
    "tags": []
   },
   "outputs": [],
   "source": [
    "# 10 most frequnt words\n",
    "def most_frequent(word, title):\n",
    "  word = string_to_word(word)\n",
    "  word = list(chain.from_iterable(word))\n",
    "  word = Counter(word)\n",
    "  freq_words = word.most_common(10)\n",
    "\n",
    "  y = [x[0] for x in freq_words]\n",
    "  x = [x[1] for x in freq_words]\n",
    "  plt.title(title)\n",
    "  plt.bar(y, x)\n",
    "  plt.show()"
   ]
  },
  {
   "cell_type": "code",
   "execution_count": 37,
   "metadata": {
    "execution": {
     "iopub.execute_input": "2021-09-23T14:04:02.981409Z",
     "iopub.status.busy": "2021-09-23T14:04:02.980731Z",
     "iopub.status.idle": "2021-09-23T14:04:03.356589Z",
     "shell.execute_reply": "2021-09-23T14:04:03.356066Z",
     "shell.execute_reply.started": "2021-09-23T12:45:13.593641Z"
    },
    "papermill": {
     "duration": 0.43745,
     "end_time": "2021-09-23T14:04:03.356722",
     "exception": false,
     "start_time": "2021-09-23T14:04:02.919272",
     "status": "completed"
    },
    "tags": []
   },
   "outputs": [
    {
     "data": {
      "image/png": "[encoded data removed]",
      "text/plain": [
       "<Figure size 432x288 with 1 Axes>"
      ]
     },
     "metadata": {
      "needs_background": "light"
     },
     "output_type": "display_data"
    }
   ],
   "source": [
    "most_frequent(all_words, '10 Most frequent words')"
   ]
  },
  {
   "cell_type": "code",
   "execution_count": 38,
   "metadata": {
    "execution": {
     "iopub.execute_input": "2021-09-23T14:04:03.479479Z",
     "iopub.status.busy": "2021-09-23T14:04:03.478534Z",
     "iopub.status.idle": "2021-09-23T14:04:03.681349Z",
     "shell.execute_reply": "2021-09-23T14:04:03.680725Z",
     "shell.execute_reply.started": "2021-09-23T12:45:14.017456Z"
    },
    "papermill": {
     "duration": 0.268195,
     "end_time": "2021-09-23T14:04:03.681518",
     "exception": false,
     "start_time": "2021-09-23T14:04:03.413323",
     "status": "completed"
    },
    "tags": []
   },
   "outputs": [
    {
     "data": {
      "image/png": "[encoded data removed]",
      "text/plain": [
       "<Figure size 432x288 with 1 Axes>"
      ]
     },
     "metadata": {
      "needs_background": "light"
     },
     "output_type": "display_data"
    }
   ],
   "source": [
    "most_frequent(negtive_words, '10 Most Negative words')"
   ]
  },
  {
   "cell_type": "code",
   "execution_count": 39,
   "metadata": {
    "execution": {
     "iopub.execute_input": "2021-09-23T14:04:03.800088Z",
     "iopub.status.busy": "2021-09-23T14:04:03.799516Z",
     "iopub.status.idle": "2021-09-23T14:04:04.139062Z",
     "shell.execute_reply": "2021-09-23T14:04:04.138511Z",
     "shell.execute_reply.started": "2021-09-23T12:45:14.253162Z"
    },
    "papermill": {
     "duration": 0.397442,
     "end_time": "2021-09-23T14:04:04.139207",
     "exception": false,
     "start_time": "2021-09-23T14:04:03.741765",
     "status": "completed"
    },
    "tags": []
   },
   "outputs": [
    {
     "data": {
      "image/png": "[encoded data removed]",
      "text/plain": [
       "<Figure size 432x288 with 1 Axes>"
      ]
     },
     "metadata": {
      "needs_background": "light"
     },
     "output_type": "display_data"
    }
   ],
   "source": [
    "most_frequent(positive_words, '10 most positive words')"
   ]
  },
  {
   "cell_type": "code",
   "execution_count": null,
   "metadata": {
    "papermill": {
     "duration": 0.055234,
     "end_time": "2021-09-23T14:04:04.250131",
     "exception": false,
     "start_time": "2021-09-23T14:04:04.194897",
     "status": "completed"
    },
    "tags": []
   },
   "outputs": [],
   "source": []
  }
 ],
 "metadata": {
  "kernelspec": {
   "display_name": "Python 3",
   "language": "python",
   "name": "python3"
  },
  "language_info": {
   "codemirror_mode": {
    "name": "ipython",
    "version": 3
   },
   "file_extension": ".py",
   "mimetype": "text/x-python",
   "name": "python",
   "nbconvert_exporter": "python",
   "pygments_lexer": "ipython3",
   "version": "3.8.5"
  },
  "papermill": {
   "default_parameters": {},
   "duration": 3699.847443,
   "end_time": "2021-09-23T14:04:06.075863",
   "environment_variables": {},
   "exception": null,
   "input_path": "__notebook__.ipynb",
   "output_path": "__notebook__.ipynb",
   "parameters": {},
   "start_time": "2021-09-23T13:02:26.228420",
   "version": "2.3.3"
  }
 },
 "nbformat": 4,
 "nbformat_minor": 5
}
